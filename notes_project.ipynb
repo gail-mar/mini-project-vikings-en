{
 "cells": [
  {
   "cell_type": "markdown",
   "id": "16005f26",
   "metadata": {},
   "source": [
    "**Soldiers**\n",
    "Health = 100%\n",
    "streght = 25 points\n",
    "\n",
    "attack = function (streght.player + streght. otherplayer ), max = 200\n",
    "\n",
    "receive damge = function (heath. player - streght.otherplayer)"
   ]
  },
  {
   "cell_type": "markdown",
   "id": "03bffe4b",
   "metadata": {},
   "source": [
    "**Vikings**\n",
    "name = viking.1 , viking.2,... (idea: vikinf name list instead)\n",
    "Health = soldier \n",
    "streght = (soldier *2)\n",
    "\n",
    "attack = soldier \n",
    "recieve damage = soldier +\n",
    "if the Viking is still alive, it should return \"NAME has received DAMAGE points of damage\"\n",
    "if the Viking dies, it should return \"NAME has died in act of combat\"\n",
    "battlecry = exmpl. return \"Odin Owns You All!\""
   ]
  },
  {
   "cell_type": "markdown",
   "id": "2117ab2c",
   "metadata": {},
   "source": [
    "**Saxon**\n",
    "Health = soldier \n",
    "Streght = soldier \n",
    "\n",
    "attack = soldier\n",
    "recieve damage = Soldier +\n",
    "if the Saxon is still alive, it should return \"A Saxon has received DAMAGE points of damage\"\n",
    "if the Saxon dies, it should return \"A Saxon has died in combat\""
   ]
  },
  {
   "cell_type": "markdown",
   "id": "71b5c650",
   "metadata": {},
   "source": [
    "**war**\n",
    "options: \n",
    "- Saxon can call double of soldier then vikings each turn"
   ]
  }
 ],
 "metadata": {
  "kernelspec": {
   "display_name": "base",
   "language": "python",
   "name": "python3"
  },
  "language_info": {
   "codemirror_mode": {
    "name": "ipython",
    "version": 3
   },
   "file_extension": ".py",
   "mimetype": "text/x-python",
   "name": "python",
   "nbconvert_exporter": "python",
   "pygments_lexer": "ipython3",
   "version": "3.13.5"
  }
 },
 "nbformat": 4,
 "nbformat_minor": 5
}
